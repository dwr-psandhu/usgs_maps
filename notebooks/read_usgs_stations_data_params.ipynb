{
 "cells": [
  {
   "cell_type": "code",
   "execution_count": null,
   "id": "f8dc00c0",
   "metadata": {},
   "outputs": [],
   "source": [
    "%load_ext autoreload\n",
    "%autoreload 2"
   ]
  },
  {
   "cell_type": "code",
   "execution_count": null,
   "id": "50e2cfda",
   "metadata": {},
   "outputs": [],
   "source": [
    "import pandas as pd"
   ]
  },
  {
   "cell_type": "code",
   "execution_count": null,
   "id": "49f2c192",
   "metadata": {},
   "outputs": [],
   "source": [
    "import hvplot.pandas"
   ]
  },
  {
   "cell_type": "markdown",
   "id": "794d289d",
   "metadata": {},
   "source": [
    "# Basic Imports and definitions "
   ]
  },
  {
   "cell_type": "code",
   "execution_count": null,
   "id": "ef86cc55",
   "metadata": {},
   "outputs": [],
   "source": [
    "def infer_dtypes(row0):\n",
    "    column_types = row0.to_dict()\n",
    "    for k in column_types:\n",
    "        if column_types[k].endswith('s'):\n",
    "            column_types[k] = 'category'\n",
    "        elif column_types[k].endswith('n'):\n",
    "            column_types[k] = 'float'\n",
    "        elif column_types[k].endswith('d'):\n",
    "            column_types[k] = 'datetime64[ns]'\n",
    "    return column_types"
   ]
  },
  {
   "cell_type": "code",
   "execution_count": null,
   "id": "802fab9c",
   "metadata": {},
   "outputs": [],
   "source": [
    "def parse_param_table(data_url):\n",
    "    dfcomments=pd.read_csv(data_url,sep='#',nrows=100)\n",
    "\n",
    "    dfcomments=dfcomments[dfcomments.iloc[:,0].isna()].iloc[:,1]\n",
    "    dfcomments\n",
    "\n",
    "    param_table_begin=dfcomments[dfcomments.str.find('TS_ID       Parameter Description') > 0].index[0]\n",
    "    #dfcomments.str.split('\\s+',expand=True)\n",
    "\n",
    "    dfparam=dfcomments.iloc[param_table_begin:]\n",
    "    param_table_end=dfparam[dfparam.isna()].index[0]\n",
    "\n",
    "    dfparams=dfcomments.iloc[param_table_begin:param_table_end]\n",
    "    param_columns=dfparams.iloc[0:1].str.strip().str.split('\\s+').iloc[0]\n",
    "    col_index=[dfparams.iloc[0].find(col) for col in param_columns]\n",
    "    \n",
    "    df = pd.DataFrame(columns=param_columns)\n",
    "    \n",
    "    for i in range(len(col_index) - 1):\n",
    "        df.iloc[:, i] = (dfparams.iloc[1:].str.slice(col_index[i], col_index[i + 1])).str.strip()\n",
    "    df.iloc[:, len(col_index) - 1] = dfparams.iloc[1:].str.slice(col_index[len(col_index) - 1],).str.strip()\n",
    "    return df.reset_index().drop(columns='index')"
   ]
  },
  {
   "cell_type": "code",
   "execution_count": null,
   "id": "bc455908",
   "metadata": {},
   "outputs": [],
   "source": [
    "from usgs_maps import nwis"
   ]
  },
  {
   "cell_type": "markdown",
   "id": "bbe03b0d",
   "metadata": {},
   "source": [
    "# Stations List Query"
   ]
  },
  {
   "cell_type": "code",
   "execution_count": null,
   "id": "892f2ac0",
   "metadata": {},
   "outputs": [],
   "source": [
    "stations_list_file='https://waterservices.usgs.gov/nwis/site/?format=rdb,1.0&stateCd=ca&siteStatus=all'\n",
    "#stations_list_file='../tests/data/ca-stations-list.rdb.txt' # cached the above url for speed\n",
    "dfstations = nwis.read_rdb(stations_list_file)\n",
    "dfstations.head()"
   ]
  },
  {
   "cell_type": "markdown",
   "id": "e965a6aa",
   "metadata": {},
   "source": [
    "# Single station with detailed info"
   ]
  },
  {
   "cell_type": "code",
   "execution_count": null,
   "id": "bac9ab58",
   "metadata": {},
   "outputs": [],
   "source": [
    "dfs = nwis.read_rdb('https://waterservices.usgs.gov/nwis/site/?format=rdb,1.0&sites=09423350&seriesCatalogOutput=true&siteStatus=all')\n",
    "dfs.head(3)"
   ]
  },
  {
   "cell_type": "markdown",
   "id": "7325c5f1",
   "metadata": {},
   "source": [
    "# Site Type Query"
   ]
  },
  {
   "cell_type": "code",
   "execution_count": null,
   "id": "9041dcb2",
   "metadata": {},
   "outputs": [],
   "source": [
    "# site type code\n",
    "site_type_url='https://help.waterdata.usgs.gov/code/site_tp_query?fmt=html'\n",
    "dflist=pd.read_html(site_type_url)\n",
    "assert len(dflist) == 1\n",
    "site_type=dflist[0]"
   ]
  },
  {
   "cell_type": "code",
   "execution_count": null,
   "id": "0fc6d48f",
   "metadata": {},
   "outputs": [],
   "source": [
    "site_type.columns"
   ]
  },
  {
   "cell_type": "code",
   "execution_count": null,
   "id": "0f59b289",
   "metadata": {},
   "outputs": [],
   "source": [
    "dict(zip(site_type.columns,['category']*len(site_type.columns)))"
   ]
  },
  {
   "cell_type": "code",
   "execution_count": null,
   "id": "4752d914",
   "metadata": {},
   "outputs": [],
   "source": [
    "site_type_dtype_map = {'Site Tp Cd': 'category',\n",
    " 'Site Tp Srt Nu': 'int',\n",
    " 'Site Tp Vld Fg': 'category',\n",
    " 'Site Tp Prim Fg': 'category',\n",
    " 'Site Tp Nm': 'string',\n",
    " 'Site Tp Ln': 'string',\n",
    " 'Site Tp Ds': 'string'}"
   ]
  },
  {
   "cell_type": "code",
   "execution_count": null,
   "id": "f91b8ed4",
   "metadata": {},
   "outputs": [],
   "source": [
    "site_type.astype(dtype=site_type_dtype_map)\n",
    "site_type.head(3)"
   ]
  },
  {
   "cell_type": "markdown",
   "id": "bea130c2",
   "metadata": {},
   "source": [
    "# Plot those with latitude/longitude info"
   ]
  },
  {
   "cell_type": "code",
   "execution_count": null,
   "id": "451b8409",
   "metadata": {},
   "outputs": [],
   "source": [
    "dfll=dfstations.astype({'dec_lat_va':'float64','dec_long_va':'float64'},errors='ignore').dropna(how='any').reset_index(drop=True)"
   ]
  },
  {
   "cell_type": "code",
   "execution_count": null,
   "id": "831977ac",
   "metadata": {},
   "outputs": [],
   "source": [
    "dfll['dec_lat_va']=pd.to_numeric(dfll['dec_lat_va'])"
   ]
  },
  {
   "cell_type": "code",
   "execution_count": null,
   "id": "b85d964f",
   "metadata": {},
   "outputs": [],
   "source": [
    "dfll['dec_long_va']=pd.to_numeric(dfll['dec_long_va'])"
   ]
  },
  {
   "cell_type": "code",
   "execution_count": null,
   "id": "bb59dcd9",
   "metadata": {},
   "outputs": [],
   "source": [
    "dfll.hvplot.points(x='dec_long_va',y='dec_lat_va',geo=True,tiles='OSM',alpha=0.5, hover_cols='all').opts(frame_width=500)"
   ]
  },
  {
   "cell_type": "markdown",
   "id": "f1a0be89",
   "metadata": {},
   "source": [
    "# Data Query for station (siteid)"
   ]
  },
  {
   "cell_type": "code",
   "execution_count": null,
   "id": "79416a50",
   "metadata": {},
   "outputs": [],
   "source": [
    "data_url='https://waterservices.usgs.gov/nwis/iv/?format=rdb,1.0&sites=11455780&startDT=2021-10-01&endDT=2021-10-30&siteStatus=all'"
   ]
  },
  {
   "cell_type": "code",
   "execution_count": null,
   "id": "c9fbc7ef",
   "metadata": {},
   "outputs": [],
   "source": [
    "dfdata=pd.read_csv(data_url,sep='\\t',comment='#')\n",
    "column_types = infer_dtypes(dfdata.iloc[0])\n",
    "dfdata=dfdata.iloc[1:].reset_index().astype(dtype=column_types)\n",
    "dfdata.head(3)"
   ]
  },
  {
   "cell_type": "code",
   "execution_count": null,
   "id": "f17747c1",
   "metadata": {},
   "outputs": [],
   "source": [
    "dfdata.set_index('datetime')['16223_00095'].hvplot()"
   ]
  },
  {
   "cell_type": "code",
   "execution_count": null,
   "id": "23bde8e4",
   "metadata": {},
   "outputs": [],
   "source": [
    "dfparams=nwis.parse_param_table(data_url)\n",
    "dfparams"
   ]
  },
  {
   "cell_type": "markdown",
   "id": "baf59286",
   "metadata": {},
   "source": [
    "# Monthlyqueries for data"
   ]
  },
  {
   "cell_type": "code",
   "execution_count": null,
   "id": "81a57b3d",
   "metadata": {},
   "outputs": [],
   "source": [
    "nwis.get_station_data('11455780','2021-09-01','2021-09-30')"
   ]
  },
  {
   "cell_type": "code",
   "execution_count": null,
   "id": "20e7e51c",
   "metadata": {},
   "outputs": [],
   "source": [
    "nwis.get_station_data('11455780','2021-10-01','2021-10-31')"
   ]
  },
  {
   "cell_type": "code",
   "execution_count": null,
   "id": "a3817469",
   "metadata": {},
   "outputs": [],
   "source": [
    "dfsd = nwis.get_station_detailed_info(11455780)\n",
    "dfsd.head()"
   ]
  },
  {
   "cell_type": "code",
   "execution_count": null,
   "id": "4a088f68",
   "metadata": {},
   "outputs": [],
   "source": [
    "dfsd.begin_date.min(),dfsd.end_date.max()"
   ]
  },
  {
   "cell_type": "code",
   "execution_count": null,
   "id": "9903b14b",
   "metadata": {},
   "outputs": [],
   "source": [
    "dffull=nwis.get_station_data(11455780,'1997-12-18','2021-11-02')"
   ]
  },
  {
   "cell_type": "code",
   "execution_count": null,
   "id": "a58646af",
   "metadata": {},
   "outputs": [],
   "source": [
    "dffull.info()"
   ]
  },
  {
   "cell_type": "code",
   "execution_count": null,
   "id": "53a9c771",
   "metadata": {},
   "outputs": [],
   "source": [
    "def to_date_format(str):\n",
    "    try:\n",
    "        return pd.to_datetime(str).strftime('%Y-%m-%d')\n",
    "    except:\n",
    "        return ''\n",
    "\n",
    "\n",
    "def to_datetime(dstr):\n",
    "    if dstr == '':\n",
    "        return pd.Timestamp.now()\n",
    "    else:\n",
    "        return pd.to_datetime(dstr)\n",
    "\n",
    "\n",
    "def to_year(dstr):\n",
    "    return to_datetime(dstr).year\n",
    "\n",
    "\n",
    "def sort_times(start, end):\n",
    "    stime = to_datetime(start)\n",
    "    etime = to_datetime(end)\n",
    "    if stime < etime:\n",
    "        return to_date_format(stime), to_date_format(etime)\n",
    "    else:\n",
    "        return to_date_format(etime), to_date_format(stime)"
   ]
  },
  {
   "cell_type": "code",
   "execution_count": null,
   "id": "6f147be6",
   "metadata": {},
   "outputs": [],
   "source": [
    "import dask.dataframe as dd\n",
    "\n",
    "\n",
    "def read_station_data_dd(siteid, start, end):\n",
    "    # make sure start and end are in the right order, start < order\n",
    "    start, end = sort_times(start, end)\n",
    "    start_year = to_year(start)\n",
    "    end_year = to_year(end) + 1\n",
    "    url = 'https://waterservices.usgs.gov/nwis/iv/?format=rdb,1.0&sites={siteid}&startDT={year}-01-01&endDT={year}-12-31&siteStatus=all'\n",
    "    list_urls = [url.format(siteid=siteid, year=syear)\n",
    "                 for syear in range(start_year, end_year)]\n",
    "    ddf = dd.read_csv(list_urls, blocksize=None, sep='\\t', comment='#')\n",
    "    # parse_dates=['DATE TIME','OBS DATE'] # doesn't work so will have to read in as strings and convert later\n",
    "    # dd.visualize(): shows parallel tasks which are executed below\n",
    "    df = ddf.compute()\n",
    "    df.index = pd.to_datetime(df['datetime'])\n",
    "    df = df.drop(columns=['datetime'])\n",
    "    return df"
   ]
  },
  {
   "cell_type": "code",
   "execution_count": null,
   "id": "4e836b84",
   "metadata": {},
   "outputs": [],
   "source": []
  }
 ],
 "metadata": {
  "kernelspec": {
   "display_name": "Python [conda env:env_cdec_maps]",
   "language": "python",
   "name": "conda-env-env_cdec_maps-py"
  },
  "language_info": {
   "codemirror_mode": {
    "name": "ipython",
    "version": 3
   },
   "file_extension": ".py",
   "mimetype": "text/x-python",
   "name": "python",
   "nbconvert_exporter": "python",
   "pygments_lexer": "ipython3",
   "version": "3.9.7"
  },
  "toc": {
   "base_numbering": 1,
   "nav_menu": {},
   "number_sections": true,
   "sideBar": true,
   "skip_h1_title": false,
   "title_cell": "Table of Contents",
   "title_sidebar": "Contents",
   "toc_cell": false,
   "toc_position": {},
   "toc_section_display": true,
   "toc_window_display": false
  }
 },
 "nbformat": 4,
 "nbformat_minor": 5
}
